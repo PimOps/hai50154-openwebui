{
 "cells": [
  {
   "cell_type": "code",
   "execution_count": 38,
   "id": "f4e29423",
   "metadata": {},
   "outputs": [
    {
     "data": {
      "text/plain": [
       "True"
      ]
     },
     "execution_count": 38,
     "metadata": {},
     "output_type": "execute_result"
    }
   ],
   "source": [
    "import stealth_requests as requests\n",
    "import requests as r\n",
    "from bs4 import BeautifulSoup\n",
    "from markdownify import markdownify as md\n",
    "from dotenv import load_dotenv\n",
    "import os\n",
    "import json\n",
    "from tqdm import tqdm\n",
    "from time import sleep\n",
    "load_dotenv()"
   ]
  },
  {
   "cell_type": "code",
   "execution_count": 39,
   "id": "3e94ab9e",
   "metadata": {},
   "outputs": [],
   "source": [
    "with open('data/urls.txt', 'r') as f:\n",
    "    page_urls = [line.strip() for line in f if line.strip()]"
   ]
  },
  {
   "cell_type": "code",
   "execution_count": 40,
   "id": "5604aacb",
   "metadata": {},
   "outputs": [],
   "source": [
    "def scrape_content(url):\n",
    "    resp = requests.get(url)\n",
    "    soup = BeautifulSoup(resp.content, 'html.parser')\n",
    "\n",
    "    # Find the 'div' with class 'content-wrap'\n",
    "    content_wrap_div = soup.find('div', class_='content-wrap')\n",
    "\n",
    "    # Get the HTML content of this div\n",
    "    if content_wrap_div:\n",
    "        content_wrap_html = str(content_wrap_div)\n",
    "        md_content = md(content_wrap_html)\n",
    "        #print(md_content)\n",
    "        return md_content\n",
    "    else:\n",
    "        print(\"Div with class 'content-wrap' not found.\")\n",
    "        return None\n"
   ]
  },
  {
   "cell_type": "code",
   "execution_count": 41,
   "id": "0f33b862",
   "metadata": {},
   "outputs": [
    {
     "name": "stderr",
     "output_type": "stream",
     "text": [
      "Processing https://summer.skku.edu/summer/index.do:   0%|          | 0/30 [00:00<?, ?it/s]"
     ]
    },
    {
     "name": "stdout",
     "output_type": "stream",
     "text": [
      "Div with class 'content-wrap' not found.\n"
     ]
    },
    {
     "name": "stderr",
     "output_type": "stream",
     "text": [
      "Processing https://summer.skku.edu/summer/registration/calendar.do:  13%|█▎        | 4/30 [00:03<00:19,  1.36it/s] "
     ]
    },
    {
     "name": "stdout",
     "output_type": "stream",
     "text": [
      "Div with class 'content-wrap' not found.\n"
     ]
    },
    {
     "name": "stderr",
     "output_type": "stream",
     "text": [
      "Processing https://summer.skku.edu/summer/registration/application2.do:  47%|████▋     | 14/30 [00:10<00:11,  1.43it/s]"
     ]
    },
    {
     "name": "stdout",
     "output_type": "stream",
     "text": [
      "Div with class 'content-wrap' not found.\n"
     ]
    },
    {
     "name": "stderr",
     "output_type": "stream",
     "text": [
      "Processing https://summer.skku.edu/summer/registration/insurance.do: 100%|██████████| 30/30 [00:21<00:00,  1.38it/s]   \n"
     ]
    }
   ],
   "source": [
    "import base64\n",
    "\n",
    "pbar = tqdm(page_urls)\n",
    "\n",
    "markdown_dicts = []\n",
    "for url in pbar:\n",
    "    pbar.set_description(f\"Processing {url}\")\n",
    "    url = url\n",
    "    content = scrape_content(url)\n",
    "    if content:\n",
    "        markdown_dicts.append({\n",
    "            \"url\": url,\n",
    "            \"content\": content\n",
    "        })\n",
    "    sleep(0.5)  # To avoid overwhelming the server\n"
   ]
  },
  {
   "cell_type": "code",
   "execution_count": 35,
   "id": "0eabda72",
   "metadata": {},
   "outputs": [
    {
     "name": "stdout",
     "output_type": "stream",
     "text": [
      "Scraping https://summer.skku.edu/summer/index.do...\n",
      "Div with class 'content-wrap' not found.\n"
     ]
    },
    {
     "ename": "AttributeError",
     "evalue": "'NoneType' object has no attribute 'encode'",
     "output_type": "error",
     "traceback": [
      "\u001b[31m---------------------------------------------------------------------------\u001b[39m",
      "\u001b[31mAttributeError\u001b[39m                            Traceback (most recent call last)",
      "\u001b[36mCell\u001b[39m\u001b[36m \u001b[39m\u001b[32mIn[35]\u001b[39m\u001b[32m, line 8\u001b[39m\n\u001b[32m      6\u001b[39m url = url\n\u001b[32m      7\u001b[39m content = scrape_content(url)\n\u001b[32m----> \u001b[39m\u001b[32m8\u001b[39m markdown_bytes = \u001b[43mcontent\u001b[49m\u001b[43m.\u001b[49m\u001b[43mencode\u001b[49m(\u001b[33m'\u001b[39m\u001b[33mutf-8\u001b[39m\u001b[33m'\u001b[39m)\n\u001b[32m      9\u001b[39m base64_bytes = base64.b64encode(markdown_bytes)\n\u001b[32m     10\u001b[39m \u001b[38;5;28;01mif\u001b[39;00m content:\n",
      "\u001b[31mAttributeError\u001b[39m: 'NoneType' object has no attribute 'encode'"
     ]
    }
   ],
   "source": [
    "import base64\n",
    "\n",
    "markdown_dicts = []\n",
    "for url in page_urls:\n",
    "    print(f\"Scraping {url}...\")\n",
    "    url = url\n",
    "    content = scrape_content(url)\n",
    "    markdown_bytes = content.encode('utf-8')\n",
    "    base64_bytes = base64.b64encode(markdown_bytes)\n",
    "    if content:\n",
    "        markdown_dicts.append({\n",
    "            \"url\": url,\n",
    "            \"content\": content,\n",
    "            \"base64\": base64_bytes.decode('utf-8')\n",
    "        })\n"
   ]
  },
  {
   "cell_type": "code",
   "execution_count": null,
   "id": "ece5f5c5",
   "metadata": {},
   "outputs": [],
   "source": []
  },
  {
   "cell_type": "code",
   "execution_count": null,
   "id": "698f82d2",
   "metadata": {},
   "outputs": [],
   "source": [
    "api_url = \"http://localhost:8080/\"\n",
    "api_key = os.getenv(\"OPEN_WEBUI_API_KEY\")\n",
    "headers = {\n",
    "    \"Authorization\": f\"Bearer {api_key}\",\n",
    "    \"Content-Type\": \"application/json\",\n",
    "    'Accept': 'application/json'\n",
    "}"
   ]
  },
  {
   "cell_type": "code",
   "execution_count": null,
   "id": "f989457e",
   "metadata": {},
   "outputs": [],
   "source": [
    "knowledge_base_data = {\n",
    "    \"name\": \"ISS Info\",\n",
    "    \"description\": \"Knowledge Base with information about International Summer Semester\",\n",
    "    \"data\": {},\n",
    "    \"access_control\": {}\n",
    "}\n",
    "\n",
    "# The api_url is defined in cell 4\n",
    "create_kb_url = f\"{api_url}api/v1/knowledge/create\"\n",
    "response = r.post(create_kb_url, headers=headers, json=knowledge_base_data)\n",
    "if response.status_code == 200:\n",
    "    kb_creation_response = response.json()\n",
    "    kb_creation_id = kb_creation_response.get(\"id\")\n",
    "    print(kb_creation_response)\n",
    "else:\n",
    "    print(f\"Failed to create knowledge base: {response.status_code} - {response.text}\")"
   ]
  },
  {
   "cell_type": "code",
   "execution_count": null,
   "id": "86a9f54b",
   "metadata": {},
   "outputs": [],
   "source": [
    "kb_creation_id"
   ]
  },
  {
   "cell_type": "code",
   "execution_count": null,
   "id": "825099e6",
   "metadata": {},
   "outputs": [],
   "source": [
    "api_add_file_url = \"/api/v1/files/\""
   ]
  },
  {
   "cell_type": "code",
   "execution_count": null,
   "id": "410fb1d1",
   "metadata": {},
   "outputs": [],
   "source": [
    "def add_file_to_kb(source_url, base64_content):\n",
    "    api_add_file_url = \"/api/v1/files/\"\n",
    "    files = {'file': base64_content}\n",
    "    response = r.post(f\"{api_url}{api_add_file_url}\", headers=headers, files=files)\n",
    "    return response"
   ]
  },
  {
   "cell_type": "code",
   "execution_count": null,
   "id": "5f0ded45",
   "metadata": {},
   "outputs": [],
   "source": [
    "add_file_to_kb"
   ]
  }
 ],
 "metadata": {
  "kernelspec": {
   "display_name": "Python 3",
   "language": "python",
   "name": "python3"
  },
  "language_info": {
   "codemirror_mode": {
    "name": "ipython",
    "version": 3
   },
   "file_extension": ".py",
   "mimetype": "text/x-python",
   "name": "python",
   "nbconvert_exporter": "python",
   "pygments_lexer": "ipython3",
   "version": "3.11.12"
  }
 },
 "nbformat": 4,
 "nbformat_minor": 5
}
