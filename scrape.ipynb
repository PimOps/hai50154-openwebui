{
 "cells": [
  {
   "cell_type": "code",
   "execution_count": 46,
   "id": "f4e29423",
   "metadata": {},
   "outputs": [
    {
     "data": {
      "text/plain": [
       "True"
      ]
     },
     "execution_count": 46,
     "metadata": {},
     "output_type": "execute_result"
    }
   ],
   "source": [
    "import stealth_requests as requests\n",
    "import requests as r\n",
    "from bs4 import BeautifulSoup\n",
    "from markdownify import markdownify as md\n",
    "from dotenv import load_dotenv\n",
    "import os\n",
    "import json\n",
    "load_dotenv()"
   ]
  },
  {
   "cell_type": "code",
   "execution_count": 47,
   "id": "3983e005",
   "metadata": {},
   "outputs": [],
   "source": [
    "urls = [\n",
    "    \"https://summer.skku.edu/summer/intro/welcome.do\", # Welcome to SKKU Summer\n",
    "    \"https://summer.skku.edu/summer/intro/why.do\", # Why Summer at SKKU?\n",
    "    \"https://summer.skku.edu/summer/program/overview.do\", # Overview of SKKU Summer\n",
    "    \"https://summer.skku.edu/summer/program/2025Exclusive.do\", #2025 Exclusive : Jeju Cultural Journey\n",
    "    \"https://summer.skku.edu/summer/program/activities.do\", # Cultural Activity\n",
    "    \"https://summer.skku.edu/summer/life/Student_Service.do\", # Student Services\n",
    "    \"https://summer.skku.edu/summer/program/policies.do\", # Academic Policies\n",
    "    ]"
   ]
  },
  {
   "cell_type": "code",
   "execution_count": 48,
   "id": "5604aacb",
   "metadata": {},
   "outputs": [],
   "source": [
    "def scrape_content(url):\n",
    "    soup = BeautifulSoup(response.content, 'html.parser')\n",
    "\n",
    "    # Find the 'div' with class 'content-wrap'\n",
    "    content_wrap_div = soup.find('div', class_='content-wrap')\n",
    "\n",
    "    # Get the HTML content of this div\n",
    "    if content_wrap_div:\n",
    "        content_wrap_html = str(content_wrap_div)\n",
    "        # print(content_wrap_html)\n",
    "    else:\n",
    "        print(\"Div with class 'content-wrap' not found.\")\n",
    "\n",
    "    md_content = md(content_wrap_html)\n",
    "    print(md_content)\n"
   ]
  },
  {
   "cell_type": "code",
   "execution_count": 49,
   "id": "0f33b862",
   "metadata": {},
   "outputs": [],
   "source": [
    "markdown_dict = {}\n",
    "for url in urls:\n",
    "    response = requests.get(url)\n",
    "    if response.status_code == 200:\n",
    "        markdown_dict[url] = md(response.text)\n",
    "    else:\n",
    "        print(f\"Failed to retrieve {url}: Status code {response.status_code}\")"
   ]
  },
  {
   "cell_type": "code",
   "execution_count": 50,
   "id": "698f82d2",
   "metadata": {},
   "outputs": [],
   "source": [
    "api_url = \"http://localhost:8080/\"\n",
    "api_key = os.getenv(\"OPEN_WEBUI_API_KEY\")\n",
    "headers = {\n",
    "    \"Authorization\": f\"Bearer {api_key}\",\n",
    "    \"Content-Type\": \"application/json\"\n",
    "}"
   ]
  },
  {
   "cell_type": "code",
   "execution_count": 53,
   "id": "f989457e",
   "metadata": {},
   "outputs": [
    {
     "name": "stdout",
     "output_type": "stream",
     "text": [
      "Knowledge base created successfully.\n"
     ]
    }
   ],
   "source": [
    "knowledge_base_data = {\n",
    "    \"name\": \"ISS Info\",\n",
    "    \"description\": \"Knowledge Base with information about International Summer Semester\",\n",
    "    \"data\": {},\n",
    "    \"access_control\": {}\n",
    "}\n",
    "\n",
    "# The api_url is defined in cell 4\n",
    "create_kb_url = f\"{api_url}api/v1/knowledge/create\"\n",
    "response = r.post(create_kb_url, headers=headers, json=knowledge_base_data)\n",
    "if response.status_code == 200:\n",
    "    print(\"Knowledge base created successfully.\")\n",
    "else:\n",
    "    print(f\"Failed to create knowledge base: {response.status_code} - {response.text}\")"
   ]
  },
  {
   "cell_type": "code",
   "execution_count": null,
   "id": "86a9f54b",
   "metadata": {},
   "outputs": [],
   "source": []
  }
 ],
 "metadata": {
  "kernelspec": {
   "display_name": "Python 3",
   "language": "python",
   "name": "python3"
  },
  "language_info": {
   "codemirror_mode": {
    "name": "ipython",
    "version": 3
   },
   "file_extension": ".py",
   "mimetype": "text/x-python",
   "name": "python",
   "nbconvert_exporter": "python",
   "pygments_lexer": "ipython3",
   "version": "3.11.12"
  }
 },
 "nbformat": 4,
 "nbformat_minor": 5
}
